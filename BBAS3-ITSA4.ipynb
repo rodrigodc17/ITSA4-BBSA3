{
 "cells": [
  {
   "cell_type": "code",
   "execution_count": 2,
   "metadata": {},
   "outputs": [],
   "source": [
    "#importing the necessary libraries to execute our project\n",
    "import pandas as pd\n",
    "import numpy as np\n",
    "import matplotlib.pyplot as plt"
   ]
  },
  {
   "cell_type": "code",
   "execution_count": 12,
   "metadata": {},
   "outputs": [
    {
     "data": {
      "text/html": [
       "<div>\n",
       "<style scoped>\n",
       "    .dataframe tbody tr th:only-of-type {\n",
       "        vertical-align: middle;\n",
       "    }\n",
       "\n",
       "    .dataframe tbody tr th {\n",
       "        vertical-align: top;\n",
       "    }\n",
       "\n",
       "    .dataframe thead th {\n",
       "        text-align: right;\n",
       "    }\n",
       "</style>\n",
       "<table border=\"1\" class=\"dataframe\">\n",
       "  <thead>\n",
       "    <tr style=\"text-align: right;\">\n",
       "      <th></th>\n",
       "      <th>Date</th>\n",
       "      <th>Open</th>\n",
       "      <th>High</th>\n",
       "      <th>Low</th>\n",
       "      <th>Close</th>\n",
       "      <th>Adj Close</th>\n",
       "      <th>Volume</th>\n",
       "    </tr>\n",
       "  </thead>\n",
       "  <tbody>\n",
       "    <tr>\n",
       "      <th>0</th>\n",
       "      <td>2015-04-27</td>\n",
       "      <td>8.09818</td>\n",
       "      <td>8.21014</td>\n",
       "      <td>7.98622</td>\n",
       "      <td>8.06832</td>\n",
       "      <td>5.851368</td>\n",
       "      <td>23752772.0</td>\n",
       "    </tr>\n",
       "    <tr>\n",
       "      <th>1</th>\n",
       "      <td>2015-04-28</td>\n",
       "      <td>8.12803</td>\n",
       "      <td>8.15043</td>\n",
       "      <td>7.97130</td>\n",
       "      <td>8.01608</td>\n",
       "      <td>5.813481</td>\n",
       "      <td>26826692.0</td>\n",
       "    </tr>\n",
       "    <tr>\n",
       "      <th>2</th>\n",
       "      <td>2015-04-29</td>\n",
       "      <td>7.97876</td>\n",
       "      <td>7.98622</td>\n",
       "      <td>7.87427</td>\n",
       "      <td>7.97876</td>\n",
       "      <td>5.786416</td>\n",
       "      <td>16316842.0</td>\n",
       "    </tr>\n",
       "    <tr>\n",
       "      <th>3</th>\n",
       "      <td>2015-04-30</td>\n",
       "      <td>7.97130</td>\n",
       "      <td>8.03847</td>\n",
       "      <td>7.83695</td>\n",
       "      <td>7.91905</td>\n",
       "      <td>5.743111</td>\n",
       "      <td>21890440.0</td>\n",
       "    </tr>\n",
       "    <tr>\n",
       "      <th>4</th>\n",
       "      <td>2015-05-04</td>\n",
       "      <td>8.03847</td>\n",
       "      <td>8.10564</td>\n",
       "      <td>7.97130</td>\n",
       "      <td>7.99369</td>\n",
       "      <td>5.797244</td>\n",
       "      <td>13699260.0</td>\n",
       "    </tr>\n",
       "  </tbody>\n",
       "</table>\n",
       "</div>"
      ],
      "text/plain": [
       "         Date     Open     High      Low    Close  Adj Close      Volume\n",
       "0  2015-04-27  8.09818  8.21014  7.98622  8.06832   5.851368  23752772.0\n",
       "1  2015-04-28  8.12803  8.15043  7.97130  8.01608   5.813481  26826692.0\n",
       "2  2015-04-29  7.97876  7.98622  7.87427  7.97876   5.786416  16316842.0\n",
       "3  2015-04-30  7.97130  8.03847  7.83695  7.91905   5.743111  21890440.0\n",
       "4  2015-05-04  8.03847  8.10564  7.97130  7.99369   5.797244  13699260.0"
      ]
     },
     "execution_count": 12,
     "metadata": {},
     "output_type": "execute_result"
    }
   ],
   "source": [
    "#defining variables, importing and reading data. it = itaú, bb= bank of Brazil; data time: from over the last 5 years\n",
    "it = pd.read_csv('itsa.csv')\n",
    "bb = pd.read_csv('bb.csv')\n",
    "it.head()\n"
   ]
  },
  {
   "cell_type": "code",
   "execution_count": 7,
   "metadata": {},
   "outputs": [
    {
     "data": {
      "text/html": [
       "<div>\n",
       "<style scoped>\n",
       "    .dataframe tbody tr th:only-of-type {\n",
       "        vertical-align: middle;\n",
       "    }\n",
       "\n",
       "    .dataframe tbody tr th {\n",
       "        vertical-align: top;\n",
       "    }\n",
       "\n",
       "    .dataframe thead th {\n",
       "        text-align: right;\n",
       "    }\n",
       "</style>\n",
       "<table border=\"1\" class=\"dataframe\">\n",
       "  <thead>\n",
       "    <tr style=\"text-align: right;\">\n",
       "      <th></th>\n",
       "      <th>Date</th>\n",
       "      <th>Open</th>\n",
       "      <th>High</th>\n",
       "      <th>Low</th>\n",
       "      <th>Close</th>\n",
       "      <th>Adj Close</th>\n",
       "      <th>Volume</th>\n",
       "    </tr>\n",
       "  </thead>\n",
       "  <tbody>\n",
       "    <tr>\n",
       "      <th>0</th>\n",
       "      <td>2015-04-27</td>\n",
       "      <td>27.000000</td>\n",
       "      <td>27.280001</td>\n",
       "      <td>26.299999</td>\n",
       "      <td>26.400000</td>\n",
       "      <td>20.357279</td>\n",
       "      <td>8016900.0</td>\n",
       "    </tr>\n",
       "    <tr>\n",
       "      <th>1</th>\n",
       "      <td>2015-04-28</td>\n",
       "      <td>26.590000</td>\n",
       "      <td>26.660000</td>\n",
       "      <td>25.780001</td>\n",
       "      <td>26.500000</td>\n",
       "      <td>20.434393</td>\n",
       "      <td>4848200.0</td>\n",
       "    </tr>\n",
       "    <tr>\n",
       "      <th>2</th>\n",
       "      <td>2015-04-29</td>\n",
       "      <td>26.299999</td>\n",
       "      <td>26.350000</td>\n",
       "      <td>25.850000</td>\n",
       "      <td>26.000000</td>\n",
       "      <td>20.048840</td>\n",
       "      <td>5125500.0</td>\n",
       "    </tr>\n",
       "    <tr>\n",
       "      <th>3</th>\n",
       "      <td>2015-04-30</td>\n",
       "      <td>25.850000</td>\n",
       "      <td>26.620001</td>\n",
       "      <td>25.610001</td>\n",
       "      <td>26.620001</td>\n",
       "      <td>20.526926</td>\n",
       "      <td>7232900.0</td>\n",
       "    </tr>\n",
       "    <tr>\n",
       "      <th>4</th>\n",
       "      <td>2015-05-04</td>\n",
       "      <td>26.809999</td>\n",
       "      <td>26.959999</td>\n",
       "      <td>26.410000</td>\n",
       "      <td>26.440001</td>\n",
       "      <td>20.388130</td>\n",
       "      <td>4512000.0</td>\n",
       "    </tr>\n",
       "  </tbody>\n",
       "</table>\n",
       "</div>"
      ],
      "text/plain": [
       "         Date       Open       High        Low      Close  Adj Close  \\\n",
       "0  2015-04-27  27.000000  27.280001  26.299999  26.400000  20.357279   \n",
       "1  2015-04-28  26.590000  26.660000  25.780001  26.500000  20.434393   \n",
       "2  2015-04-29  26.299999  26.350000  25.850000  26.000000  20.048840   \n",
       "3  2015-04-30  25.850000  26.620001  25.610001  26.620001  20.526926   \n",
       "4  2015-05-04  26.809999  26.959999  26.410000  26.440001  20.388130   \n",
       "\n",
       "      Volume  \n",
       "0  8016900.0  \n",
       "1  4848200.0  \n",
       "2  5125500.0  \n",
       "3  7232900.0  \n",
       "4  4512000.0  "
      ]
     },
     "execution_count": 7,
     "metadata": {},
     "output_type": "execute_result"
    }
   ],
   "source": [
    "bb.head()"
   ]
  },
  {
   "cell_type": "code",
   "execution_count": 13,
   "metadata": {},
   "outputs": [
    {
     "data": {
      "text/html": [
       "<div>\n",
       "<style scoped>\n",
       "    .dataframe tbody tr th:only-of-type {\n",
       "        vertical-align: middle;\n",
       "    }\n",
       "\n",
       "    .dataframe tbody tr th {\n",
       "        vertical-align: top;\n",
       "    }\n",
       "\n",
       "    .dataframe thead th {\n",
       "        text-align: right;\n",
       "    }\n",
       "</style>\n",
       "<table border=\"1\" class=\"dataframe\">\n",
       "  <thead>\n",
       "    <tr style=\"text-align: right;\">\n",
       "      <th></th>\n",
       "      <th>Open</th>\n",
       "      <th>High</th>\n",
       "      <th>Low</th>\n",
       "      <th>Close</th>\n",
       "      <th>Adj Close</th>\n",
       "      <th>Volume</th>\n",
       "    </tr>\n",
       "  </thead>\n",
       "  <tbody>\n",
       "    <tr>\n",
       "      <th>count</th>\n",
       "      <td>1241.000000</td>\n",
       "      <td>1241.000000</td>\n",
       "      <td>1241.000000</td>\n",
       "      <td>1241.000000</td>\n",
       "      <td>1241.000000</td>\n",
       "      <td>1.241000e+03</td>\n",
       "    </tr>\n",
       "    <tr>\n",
       "      <th>mean</th>\n",
       "      <td>32.801168</td>\n",
       "      <td>33.285584</td>\n",
       "      <td>32.263868</td>\n",
       "      <td>32.762361</td>\n",
       "      <td>29.816567</td>\n",
       "      <td>1.028356e+07</td>\n",
       "    </tr>\n",
       "    <tr>\n",
       "      <th>std</th>\n",
       "      <td>11.619385</td>\n",
       "      <td>11.699336</td>\n",
       "      <td>11.505781</td>\n",
       "      <td>11.611483</td>\n",
       "      <td>11.997609</td>\n",
       "      <td>5.929567e+06</td>\n",
       "    </tr>\n",
       "    <tr>\n",
       "      <th>min</th>\n",
       "      <td>12.620000</td>\n",
       "      <td>12.840000</td>\n",
       "      <td>12.520000</td>\n",
       "      <td>12.700000</td>\n",
       "      <td>10.609064</td>\n",
       "      <td>0.000000e+00</td>\n",
       "    </tr>\n",
       "    <tr>\n",
       "      <th>25%</th>\n",
       "      <td>23.410000</td>\n",
       "      <td>23.660000</td>\n",
       "      <td>22.900000</td>\n",
       "      <td>23.340000</td>\n",
       "      <td>19.314568</td>\n",
       "      <td>6.702100e+06</td>\n",
       "    </tr>\n",
       "    <tr>\n",
       "      <th>50%</th>\n",
       "      <td>31.180000</td>\n",
       "      <td>31.650000</td>\n",
       "      <td>30.700001</td>\n",
       "      <td>31.170000</td>\n",
       "      <td>28.149090</td>\n",
       "      <td>9.033600e+06</td>\n",
       "    </tr>\n",
       "    <tr>\n",
       "      <th>75%</th>\n",
       "      <td>43.770000</td>\n",
       "      <td>44.299999</td>\n",
       "      <td>43.040001</td>\n",
       "      <td>43.700001</td>\n",
       "      <td>40.543053</td>\n",
       "      <td>1.221260e+07</td>\n",
       "    </tr>\n",
       "    <tr>\n",
       "      <th>max</th>\n",
       "      <td>55.599998</td>\n",
       "      <td>55.910000</td>\n",
       "      <td>54.820000</td>\n",
       "      <td>55.180000</td>\n",
       "      <td>53.052986</td>\n",
       "      <td>7.397800e+07</td>\n",
       "    </tr>\n",
       "  </tbody>\n",
       "</table>\n",
       "</div>"
      ],
      "text/plain": [
       "              Open         High          Low        Close    Adj Close  \\\n",
       "count  1241.000000  1241.000000  1241.000000  1241.000000  1241.000000   \n",
       "mean     32.801168    33.285584    32.263868    32.762361    29.816567   \n",
       "std      11.619385    11.699336    11.505781    11.611483    11.997609   \n",
       "min      12.620000    12.840000    12.520000    12.700000    10.609064   \n",
       "25%      23.410000    23.660000    22.900000    23.340000    19.314568   \n",
       "50%      31.180000    31.650000    30.700001    31.170000    28.149090   \n",
       "75%      43.770000    44.299999    43.040001    43.700001    40.543053   \n",
       "max      55.599998    55.910000    54.820000    55.180000    53.052986   \n",
       "\n",
       "             Volume  \n",
       "count  1.241000e+03  \n",
       "mean   1.028356e+07  \n",
       "std    5.929567e+06  \n",
       "min    0.000000e+00  \n",
       "25%    6.702100e+06  \n",
       "50%    9.033600e+06  \n",
       "75%    1.221260e+07  \n",
       "max    7.397800e+07  "
      ]
     },
     "execution_count": 13,
     "metadata": {},
     "output_type": "execute_result"
    }
   ],
   "source": [
    "#general statistic describe of the values in each dataset-BB\n",
    "bb.describe()"
   ]
  },
  {
   "cell_type": "code",
   "execution_count": 15,
   "metadata": {},
   "outputs": [
    {
     "data": {
      "text/html": [
       "<div>\n",
       "<style scoped>\n",
       "    .dataframe tbody tr th:only-of-type {\n",
       "        vertical-align: middle;\n",
       "    }\n",
       "\n",
       "    .dataframe tbody tr th {\n",
       "        vertical-align: top;\n",
       "    }\n",
       "\n",
       "    .dataframe thead th {\n",
       "        text-align: right;\n",
       "    }\n",
       "</style>\n",
       "<table border=\"1\" class=\"dataframe\">\n",
       "  <thead>\n",
       "    <tr style=\"text-align: right;\">\n",
       "      <th></th>\n",
       "      <th>Open</th>\n",
       "      <th>High</th>\n",
       "      <th>Low</th>\n",
       "      <th>Close</th>\n",
       "      <th>Adj Close</th>\n",
       "      <th>Volume</th>\n",
       "    </tr>\n",
       "  </thead>\n",
       "  <tbody>\n",
       "    <tr>\n",
       "      <th>count</th>\n",
       "      <td>1241.000000</td>\n",
       "      <td>1241.000000</td>\n",
       "      <td>1241.000000</td>\n",
       "      <td>1241.000000</td>\n",
       "      <td>1241.000000</td>\n",
       "      <td>1.241000e+03</td>\n",
       "    </tr>\n",
       "    <tr>\n",
       "      <th>mean</th>\n",
       "      <td>9.569803</td>\n",
       "      <td>9.680418</td>\n",
       "      <td>9.445159</td>\n",
       "      <td>9.563640</td>\n",
       "      <td>8.418357</td>\n",
       "      <td>2.205057e+07</td>\n",
       "    </tr>\n",
       "    <tr>\n",
       "      <th>std</th>\n",
       "      <td>2.471475</td>\n",
       "      <td>2.484167</td>\n",
       "      <td>2.448980</td>\n",
       "      <td>2.471837</td>\n",
       "      <td>2.861009</td>\n",
       "      <td>1.194011e+07</td>\n",
       "    </tr>\n",
       "    <tr>\n",
       "      <th>min</th>\n",
       "      <td>5.155960</td>\n",
       "      <td>5.213440</td>\n",
       "      <td>5.131330</td>\n",
       "      <td>5.155960</td>\n",
       "      <td>3.891884</td>\n",
       "      <td>0.000000e+00</td>\n",
       "    </tr>\n",
       "    <tr>\n",
       "      <th>25%</th>\n",
       "      <td>7.486820</td>\n",
       "      <td>7.577950</td>\n",
       "      <td>7.396510</td>\n",
       "      <td>7.513920</td>\n",
       "      <td>5.825108</td>\n",
       "      <td>1.458182e+07</td>\n",
       "    </tr>\n",
       "    <tr>\n",
       "      <th>50%</th>\n",
       "      <td>9.360000</td>\n",
       "      <td>9.460000</td>\n",
       "      <td>9.209090</td>\n",
       "      <td>9.345450</td>\n",
       "      <td>8.172130</td>\n",
       "      <td>1.956636e+07</td>\n",
       "    </tr>\n",
       "    <tr>\n",
       "      <th>75%</th>\n",
       "      <td>11.980000</td>\n",
       "      <td>12.100000</td>\n",
       "      <td>11.827300</td>\n",
       "      <td>11.980000</td>\n",
       "      <td>11.051497</td>\n",
       "      <td>2.671110e+07</td>\n",
       "    </tr>\n",
       "    <tr>\n",
       "      <th>max</th>\n",
       "      <td>14.200000</td>\n",
       "      <td>14.380000</td>\n",
       "      <td>14.120000</td>\n",
       "      <td>14.350000</td>\n",
       "      <td>14.081749</td>\n",
       "      <td>1.169007e+08</td>\n",
       "    </tr>\n",
       "  </tbody>\n",
       "</table>\n",
       "</div>"
      ],
      "text/plain": [
       "              Open         High          Low        Close    Adj Close  \\\n",
       "count  1241.000000  1241.000000  1241.000000  1241.000000  1241.000000   \n",
       "mean      9.569803     9.680418     9.445159     9.563640     8.418357   \n",
       "std       2.471475     2.484167     2.448980     2.471837     2.861009   \n",
       "min       5.155960     5.213440     5.131330     5.155960     3.891884   \n",
       "25%       7.486820     7.577950     7.396510     7.513920     5.825108   \n",
       "50%       9.360000     9.460000     9.209090     9.345450     8.172130   \n",
       "75%      11.980000    12.100000    11.827300    11.980000    11.051497   \n",
       "max      14.200000    14.380000    14.120000    14.350000    14.081749   \n",
       "\n",
       "             Volume  \n",
       "count  1.241000e+03  \n",
       "mean   2.205057e+07  \n",
       "std    1.194011e+07  \n",
       "min    0.000000e+00  \n",
       "25%    1.458182e+07  \n",
       "50%    1.956636e+07  \n",
       "75%    2.671110e+07  \n",
       "max    1.169007e+08  "
      ]
     },
     "execution_count": 15,
     "metadata": {},
     "output_type": "execute_result"
    }
   ],
   "source": [
    "#ITAU\n",
    "it.describe()"
   ]
  },
  {
   "cell_type": "code",
   "execution_count": 16,
   "metadata": {},
   "outputs": [],
   "source": [
    "#When we look to the std, ITSA seems much less volatile than BBAS3\n"
   ]
  },
  {
   "cell_type": "code",
   "execution_count": 23,
   "metadata": {},
   "outputs": [
    {
     "data": {
      "image/png": "[encoded data removed]",
      "text/plain": [
       "<Figure size 432x288 with 1 Axes>"
      ]
     },
     "metadata": {
      "needs_background": "light"
     },
     "output_type": "display_data"
    }
   ],
   "source": [
    "#Let´s do a graphic comparison\n",
    "it['Close'].plot(label = 'ITSA4')\n",
    "bb['Close'].plot(label = 'BBSA3')\n",
    "plt.legend()\n",
    "plt.show()\n"
   ]
  },
  {
   "cell_type": "code",
   "execution_count": 27,
   "metadata": {},
   "outputs": [
    {
     "data": {
      "text/plain": [
       "<matplotlib.axes._subplots.AxesSubplot at 0x997fa48>"
      ]
     },
     "execution_count": 27,
     "metadata": {},
     "output_type": "execute_result"
    },
    {
     "data": {
      "image/png": "[encoded data removed]",
      "text/plain": [
       "<Figure size 432x288 with 1 Axes>"
      ]
     },
     "metadata": {
      "needs_background": "light"
     },
     "output_type": "display_data"
    }
   ],
   "source": [
    "#As we can see, Itau stock behavior is near to a normal distribution one\n",
    "it['LogReturn'] = np.log(it['Close']).shift(-1)-np.log(it['Close'])\n",
    "it['LogReturn'].hist(bins=50)"
   ]
  },
  {
   "cell_type": "code",
   "execution_count": 30,
   "metadata": {},
   "outputs": [
    {
     "data": {
      "text/plain": [
       "<matplotlib.axes._subplots.AxesSubplot at 0x942ccc8>"
      ]
     },
     "execution_count": 30,
     "metadata": {},
     "output_type": "execute_result"
    },
    {
     "data": {
      "image/png": "[encoded data removed]",
      "text/plain": [
       "<Figure size 432x288 with 1 Axes>"
      ]
     },
     "metadata": {
      "needs_background": "light"
     },
     "output_type": "display_data"
    }
   ],
   "source": [
    "#now let´s check BB\n",
    "bb['LogReturn'] = np.log(bb['Close']).shift(-1)-np.log(bb['Close'])\n",
    "bb['LogReturn'].hist(bins=50)"
   ]
  },
  {
   "cell_type": "code",
   "execution_count": 51,
   "metadata": {},
   "outputs": [
    {
     "name": "stdout",
     "output_type": "stream",
     "text": [
      "The probability of ITSA4 dropping 10% a day is 3.601977292893265e-07\n"
     ]
    }
   ],
   "source": [
    "#now, we will see the probability of ITAU to drop 1% in a day\n",
    "from scipy.stats import norm\n",
    "mu_it = it['LogReturn'].mean()\n",
    "sigma_it = it['LogReturn'].std(ddof=1)\n",
    "prob1_it = norm.cdf(-0.1,mu_it,sigma_it)\n",
    "print('The probability of ITSA4 dropping 10% a day is',prob1_it)"
   ]
  },
  {
   "cell_type": "code",
   "execution_count": 53,
   "metadata": {},
   "outputs": [
    {
     "name": "stdout",
     "output_type": "stream",
     "text": [
      "The probability of Bank of Brazil dropping 10% a day is 0.0004981049577951553\n"
     ]
    }
   ],
   "source": [
    "#repeating with BB\n",
    "mu_bb = bb['LogReturn'].mean()\n",
    "sigma_bb = bb['LogReturn'].std(ddof=1)\n",
    "prob1_bb = norm.cdf(-0.1,mu_bb,sigma_bb)\n",
    "print('The probability of Bank of Brazil dropping 10% a day is',prob1_bb)"
   ]
  },
  {
   "cell_type": "code",
   "execution_count": 56,
   "metadata": {},
   "outputs": [
    {
     "name": "stdout",
     "output_type": "stream",
     "text": [
      "var of -0.03314617555742498\n",
      "5% quantile  -0.03314617555742498\n",
      "95% quantile  0.03327913282971352\n"
     ]
    }
   ],
   "source": [
    "#VAR calculating of ITAU\n",
    "var_it = norm.ppf(0.05,mu_it,sigma_it)\n",
    "print('var of',var_it )\n",
    "print('5% quantile ', norm.ppf(0.05, mu_it, sigma_it))\n",
    "print('95% quantile ', norm.ppf(0.95, mu_it, sigma_it))"
   ]
  },
  {
   "cell_type": "code",
   "execution_count": 59,
   "metadata": {},
   "outputs": [
    {
     "name": "stdout",
     "output_type": "stream",
     "text": [
      "var of -0.04999029085055418\n",
      "5% quantile  -0.04999029085055418\n",
      "95% quantile  0.04991447476870742\n"
     ]
    }
   ],
   "source": [
    "#var calculating of BB\n",
    "var_bb = norm.ppf(0.05,mu_bb,sigma_bb)\n",
    "print('var of',var_bb )\n",
    "print('5% quantile ', norm.ppf(0.05, mu_bb, sigma_bb))\n",
    "print('95% quantile ', norm.ppf(0.95, mu_bb, sigma_bb))"
   ]
  },
  {
   "cell_type": "code",
   "execution_count": 75,
   "metadata": {},
   "outputs": [
    {
     "data": {
      "image/png": "[encoded data removed]",
      "text/plain": [
       "<Figure size 432x288 with 1 Axes>"
      ]
     },
     "metadata": {
      "needs_background": "light"
     },
     "output_type": "display_data"
    }
   ],
   "source": [
    "#introducing trading metrics, moving averages for ITSA4 and BB, plotting only ITSA4\n",
    "it['MA10']= it['Close'].rolling(10).mean()\n",
    "it['MA40']= it['Close'].rolling(40).mean()\n",
    "it['Close'].plot()\n",
    "it['MA10'].plot()\n",
    "it['MA40'].plot()\n",
    "plt.legend()\n",
    "bb['MA10']= bb['Close'].rolling(10).mean()\n",
    "bb['MA40']= bb['Close'].rolling(40).mean()"
   ]
  },
  {
   "cell_type": "code",
   "execution_count": 77,
   "metadata": {},
   "outputs": [
    {
     "data": {
      "text/html": [
       "<div>\n",
       "<style scoped>\n",
       "    .dataframe tbody tr th:only-of-type {\n",
       "        vertical-align: middle;\n",
       "    }\n",
       "\n",
       "    .dataframe tbody tr th {\n",
       "        vertical-align: top;\n",
       "    }\n",
       "\n",
       "    .dataframe thead th {\n",
       "        text-align: right;\n",
       "    }\n",
       "</style>\n",
       "<table border=\"1\" class=\"dataframe\">\n",
       "  <thead>\n",
       "    <tr style=\"text-align: right;\">\n",
       "      <th></th>\n",
       "      <th>Date</th>\n",
       "      <th>Open</th>\n",
       "      <th>High</th>\n",
       "      <th>Low</th>\n",
       "      <th>Close</th>\n",
       "      <th>Adj Close</th>\n",
       "      <th>Volume</th>\n",
       "      <th>LogReturn</th>\n",
       "      <th>Close1</th>\n",
       "      <th>MA10</th>\n",
       "      <th>MA40</th>\n",
       "      <th>Shares</th>\n",
       "    </tr>\n",
       "  </thead>\n",
       "  <tbody>\n",
       "    <tr>\n",
       "      <th>1239</th>\n",
       "      <td>2020-04-17</td>\n",
       "      <td>29.549999</td>\n",
       "      <td>30.059999</td>\n",
       "      <td>29.030001</td>\n",
       "      <td>29.580000</td>\n",
       "      <td>29.580000</td>\n",
       "      <td>18615000.0</td>\n",
       "      <td>-0.020148</td>\n",
       "      <td>28.990000</td>\n",
       "      <td>29.039</td>\n",
       "      <td>NaN</td>\n",
       "      <td>0</td>\n",
       "    </tr>\n",
       "    <tr>\n",
       "      <th>1240</th>\n",
       "      <td>2020-04-20</td>\n",
       "      <td>29.000000</td>\n",
       "      <td>29.490000</td>\n",
       "      <td>28.520000</td>\n",
       "      <td>28.990000</td>\n",
       "      <td>28.990000</td>\n",
       "      <td>17775000.0</td>\n",
       "      <td>-0.004494</td>\n",
       "      <td>28.860001</td>\n",
       "      <td>29.388</td>\n",
       "      <td>NaN</td>\n",
       "      <td>0</td>\n",
       "    </tr>\n",
       "    <tr>\n",
       "      <th>1241</th>\n",
       "      <td>2020-04-22</td>\n",
       "      <td>28.889999</td>\n",
       "      <td>29.150000</td>\n",
       "      <td>28.629999</td>\n",
       "      <td>28.860001</td>\n",
       "      <td>28.860001</td>\n",
       "      <td>20198900.0</td>\n",
       "      <td>-0.028468</td>\n",
       "      <td>28.049999</td>\n",
       "      <td>29.488</td>\n",
       "      <td>NaN</td>\n",
       "      <td>0</td>\n",
       "    </tr>\n",
       "    <tr>\n",
       "      <th>1242</th>\n",
       "      <td>2020-04-23</td>\n",
       "      <td>29.200001</td>\n",
       "      <td>29.629999</td>\n",
       "      <td>27.610001</td>\n",
       "      <td>28.049999</td>\n",
       "      <td>28.049999</td>\n",
       "      <td>21708800.0</td>\n",
       "      <td>-0.143512</td>\n",
       "      <td>24.299999</td>\n",
       "      <td>29.376</td>\n",
       "      <td>NaN</td>\n",
       "      <td>0</td>\n",
       "    </tr>\n",
       "    <tr>\n",
       "      <th>1243</th>\n",
       "      <td>2020-04-24</td>\n",
       "      <td>27.629999</td>\n",
       "      <td>27.700001</td>\n",
       "      <td>24.000000</td>\n",
       "      <td>24.299999</td>\n",
       "      <td>24.299999</td>\n",
       "      <td>73978000.0</td>\n",
       "      <td>NaN</td>\n",
       "      <td>NaN</td>\n",
       "      <td>28.833</td>\n",
       "      <td>32.10075</td>\n",
       "      <td>0</td>\n",
       "    </tr>\n",
       "  </tbody>\n",
       "</table>\n",
       "</div>"
      ],
      "text/plain": [
       "            Date       Open       High        Low      Close  Adj Close  \\\n",
       "1239  2020-04-17  29.549999  30.059999  29.030001  29.580000  29.580000   \n",
       "1240  2020-04-20  29.000000  29.490000  28.520000  28.990000  28.990000   \n",
       "1241  2020-04-22  28.889999  29.150000  28.629999  28.860001  28.860001   \n",
       "1242  2020-04-23  29.200001  29.629999  27.610001  28.049999  28.049999   \n",
       "1243  2020-04-24  27.629999  27.700001  24.000000  24.299999  24.299999   \n",
       "\n",
       "          Volume  LogReturn     Close1    MA10      MA40  Shares  \n",
       "1239  18615000.0  -0.020148  28.990000  29.039       NaN       0  \n",
       "1240  17775000.0  -0.004494  28.860001  29.388       NaN       0  \n",
       "1241  20198900.0  -0.028468  28.049999  29.488       NaN       0  \n",
       "1242  21708800.0  -0.143512  24.299999  29.376       NaN       0  \n",
       "1243  73978000.0        NaN        NaN  28.833  32.10075       0  "
      ]
     },
     "execution_count": 77,
     "metadata": {},
     "output_type": "execute_result"
    }
   ],
   "source": [
    "it['Shares'] = [1 if it.loc[ei,'MA10']>it.loc[ei,'MA40']else 0\n",
    "                for ei in it.index]\n",
    "it.tail()\n",
    "bb['Shares'] = [1 if bb.loc[ei,'MA10']>bb.loc[ei,'MA40']else 0\n",
    "                for ei in bb.index]\n",
    "bb.tail()"
   ]
  },
  {
   "cell_type": "code",
   "execution_count": 80,
   "metadata": {},
   "outputs": [
    {
     "data": {
      "text/plain": [
       "<matplotlib.legend.Legend at 0x10aae6c8>"
      ]
     },
     "execution_count": 80,
     "metadata": {},
     "output_type": "execute_result"
    },
    {
     "data": {
      "image/png": "[encoded data removed]",
      "text/plain": [
       "<Figure size 432x288 with 1 Axes>"
      ]
     },
     "metadata": {
      "needs_background": "light"
     },
     "output_type": "display_data"
    }
   ],
   "source": [
    "#creating the variable profit to understand ITSA4 profit returns\n",
    "it['Close1'] = it['Close'].shift(-1)\n",
    "it.iloc[1000:1200,:]\n",
    "it['Profit'] = [it.loc[ei,'Close1']-it.loc[ei,'Close']\n",
    "                if it.loc[ei,'Shares']==1\n",
    "                else 0 for ei in it.index]\n",
    "it['Profit'].plot()\n",
    "plt.legend()\n"
   ]
  },
  {
   "cell_type": "code",
   "execution_count": 82,
   "metadata": {},
   "outputs": [
    {
     "data": {
      "text/plain": [
       "<matplotlib.legend.Legend at 0x10ae4308>"
      ]
     },
     "execution_count": 82,
     "metadata": {},
     "output_type": "execute_result"
    },
    {
     "data": {
      "image/png": "[encoded data removed]",
      "text/plain": [
       "<Figure size 432x288 with 1 Axes>"
      ]
     },
     "metadata": {
      "needs_background": "light"
     },
     "output_type": "display_data"
    }
   ],
   "source": [
    "#comparing with BB\n",
    "bb['Close1'] = bb['Close'].shift(-1)\n",
    "bb.iloc[1000:1200,:]\n",
    "bb['Profit'] = [bb.loc[ei,'Close1']-bb.loc[ei,'Close']\n",
    "                if bb.loc[ei,'Shares']==1\n",
    "                else 0 for ei in bb.index]\n",
    "bb['Profit'].plot()\n",
    "plt.legend()"
   ]
  },
  {
   "cell_type": "code",
   "execution_count": 84,
   "metadata": {},
   "outputs": [
    {
     "data": {
      "image/png": "[encoded data removed]",
      "text/plain": [
       "<Figure size 432x288 with 1 Axes>"
      ]
     },
     "metadata": {
      "needs_background": "light"
     },
     "output_type": "display_data"
    }
   ],
   "source": [
    "#to finish, I´ll compare the wealth created in both companies during the last 5 years\n",
    "it['Wealth'] = it['Profit'].cumsum()\n",
    "bb['Wealth'] = bb['Profit'].cumsum()\n",
    "it['Wealth'].plot(label='ITSA4')\n",
    "bb['Wealth'].plot(label='BB')\n",
    "plt.legend()\n",
    "plt.show()"
   ]
  }
 ],
 "metadata": {
  "kernelspec": {
   "display_name": "Python 3",
   "language": "python",
   "name": "python3"
  },
  "language_info": {
   "codemirror_mode": {
    "name": "ipython",
    "version": 3
   },
   "file_extension": ".py",
   "mimetype": "text/x-python",
   "name": "python",
   "nbconvert_exporter": "python",
   "pygments_lexer": "ipython3",
   "version": "3.7.6"
  }
 },
 "nbformat": 4,
 "nbformat_minor": 4
}
